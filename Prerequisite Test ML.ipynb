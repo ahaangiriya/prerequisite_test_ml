{
 "cells": [
  {
   "cell_type": "markdown",
   "id": "a7652403",
   "metadata": {},
   "source": [
    "**Ans 1)** \n",
    "\n",
    "Number of multiplications: n x m x k\n",
    "\n",
    "Number of additions: n x m x (k - 1)\n",
    "\n",
    "Explanation-\n",
    "\n",
    "Suppose two matrices A and B with dimensions (n, k) and (k, m) respectively. After matrix multiplication the resulting matrix will have dimensions (n, m). The Cij element is calculated as-\n",
    "\n",
    "Cij = Ai1 x B1j + Ai2 x B2j + ... + Aik x Bkj\n",
    "\n",
    "For each element Cij, we perform k multiplications and (k-1) additions. And since the number of elements in C is n x m, the total number of multiplications is n x m x k and the total number of additions is n x m x (k - 1)."
   ]
  },
  {
   "cell_type": "markdown",
   "id": "f6de7232",
   "metadata": {},
   "source": [
    "**Ans 2)**"
   ]
  },
  {
   "cell_type": "code",
   "execution_count": 70,
   "id": "f30bb61a",
   "metadata": {},
   "outputs": [
    {
     "name": "stdout",
     "output_type": "stream",
     "text": [
      "Time taken using list of lists: 0.9057369232177734\n",
      "Time taken using NumPy: 0.0\n"
     ]
    }
   ],
   "source": [
    "def matrix_multiply_list_of_lists(A, B):\n",
    "    C = [[0 for i in range(len(B[0]))] for j in range(len(A))]\n",
    "    \n",
    "    for i in range(len(A)):\n",
    "        for j in range(len(B[0])):\n",
    "            for k in range(len(B)):\n",
    "                C[i][j] += A[i][k] * B[k][j]\n",
    "                \n",
    "    return C\n",
    "\n",
    "import numpy as np\n",
    "\n",
    "def matrix_multiply_numpy(A, B):\n",
    "    return np.dot(A, B)\n",
    "\n",
    "import time\n",
    "\n",
    "# random matrices\n",
    "A = np.random.rand(100, 200)\n",
    "B = np.random.rand(200, 100)\n",
    "\n",
    "start_time = time.time()\n",
    "result_list_of_lists = matrix_multiply_list_of_lists(A.tolist(), B.tolist())\n",
    "end_time = time.time()\n",
    "print(\"Time taken using list of lists:\", end_time - start_time)\n",
    "\n",
    "start_time = time.time()\n",
    "result_numpy = matrix_multiply_numpy(A, B)\n",
    "end_time = time.time()\n",
    "print(\"Time taken using NumPy:\", end_time - start_time)"
   ]
  },
  {
   "cell_type": "markdown",
   "id": "b4f15c24",
   "metadata": {},
   "source": [
    "Numpy implementation is faster than list of lists because of these reasons-\n",
    "\n",
    "1. NumPy is implemented in C and Fortran. These programming languages have very little execution time compared to Python.\n",
    "\n",
    "2. NumPy operations are vectorized, operating on entire arrays without explicit looping, unlike lists of lists.\n",
    "\n",
    "3. NumPy leverages parallel processing in modern CPUs, enhancing its performance compared to non-parallelized list operations.\n",
    "\n",
    "4. NumPy employs highly optimized algorithms for matrix multiplication, surpassing the simplicity of nested loops used with lists of lists.\n",
    "\n",
    "5. NumPy uses fixed-size data types, reducing overhead, while Python lists can have varying types, introducing additional processing complexity. "
   ]
  },
  {
   "cell_type": "markdown",
   "id": "9617945b",
   "metadata": {},
   "source": [
    "**Ans 3)**"
   ]
  },
  {
   "cell_type": "markdown",
   "id": "f8d8fdfe",
   "metadata": {},
   "source": [
    "To find the median, which is the middle element in a sorted array using the method given in the question would require O(n) passes (if n is odd (n+1)/2 and if n is even n/2+1) and each pass would require traversing the array which has O(n) time complexity so the overall time complexity will be **O(n^2)**. \n",
    "\n",
    "A more efficient approach to find the median is to use a sorting algorithm with a time complexity of O(n log n). Once the array is sorted, finding the median is a constant-time operation."
   ]
  },
  {
   "cell_type": "code",
   "execution_count": 71,
   "id": "1a83641d",
   "metadata": {},
   "outputs": [
    {
     "name": "stdout",
     "output_type": "stream",
     "text": [
      "Result using multiple passes: 0.4948326962633385\n",
      "Time taken using multiple passes: 2.1759328842163086 \n",
      "\n",
      "Result using sorting: 0.4948326962633385\n",
      "Time taken using sorting: 0.008510112762451172 \n",
      "\n",
      "Result using NumPy: 0.4948326962633385\n",
      "Time taken using NumPy: 0.0\n"
     ]
    }
   ],
   "source": [
    "import numpy as np\n",
    "import time\n",
    "\n",
    "def find_median_multiple_pass(arr):\n",
    "    n = len(arr)\n",
    "    if n % 2 != 0:\n",
    "        for i in range(n // 2):\n",
    "            max_element = max(arr)\n",
    "            arr.remove(max_element)\n",
    "        return max(arr)\n",
    "    else:\n",
    "        for i in range(n // 2 - 1):\n",
    "            max_element = max(arr)\n",
    "            arr.remove(max_element)\n",
    "        m1 = max(arr)\n",
    "        arr.remove(m1)\n",
    "        m2 = max(arr)\n",
    "        return (m1+m2)/2\n",
    "    \n",
    "def find_median_sorting(arr):\n",
    "    sorted_arr = sorted(arr)\n",
    "    n = len(sorted_arr)\n",
    "    if n % 2 == 0:\n",
    "        return (sorted_arr[n // 2 - 1] + sorted_arr[n // 2]) / 2\n",
    "    else:\n",
    "        return sorted_arr[n // 2]\n",
    "    \n",
    "def find_median_numpy(arr):\n",
    "    return np.median(arr)\n",
    "\n",
    "\n",
    "arr = np.random.rand(10000)\n",
    "\n",
    "start_time = time.time()\n",
    "result_multiple_passes = find_median_multiple_pass(arr.tolist())\n",
    "end_time = time.time()\n",
    "print(\"Result using multiple passes:\", result_multiple_passes)\n",
    "print(\"Time taken using multiple passes:\", end_time - start_time, \"\\n\")\n",
    "\n",
    "start_time = time.time()\n",
    "result_sorting = find_median_sorting(arr.tolist())\n",
    "end_time = time.time()\n",
    "print(\"Result using sorting:\", result_sorting)\n",
    "print(\"Time taken using sorting:\", end_time - start_time, \"\\n\")\n",
    "\n",
    "start_time = time.time()\n",
    "result_numpy = find_median_numpy(arr)\n",
    "end_time = time.time()\n",
    "print(\"Result using NumPy:\", result_numpy)\n",
    "print(\"Time taken using NumPy:\", end_time - start_time)"
   ]
  },
  {
   "cell_type": "markdown",
   "id": "95020e22",
   "metadata": {},
   "source": [
    "**Ans 4)**"
   ]
  },
  {
   "cell_type": "markdown",
   "id": "302372d8",
   "metadata": {},
   "source": [
    "Gradient wrt x: 2xy + y^3 cos(x)\n",
    "\n",
    "Gradient wrt y: x^2 + 3 y^2 sin(x)"
   ]
  },
  {
   "cell_type": "markdown",
   "id": "e509801a",
   "metadata": {},
   "source": [
    "**Ans 6)**"
   ]
  },
  {
   "cell_type": "code",
   "execution_count": 72,
   "id": "9a040af6",
   "metadata": {},
   "outputs": [
    {
     "name": "stdout",
     "output_type": "stream",
     "text": [
      "Analytical Gradient: [2*x*y + y**3*cos(x), x**2 + 3*y**2*sin(x)]\n"
     ]
    }
   ],
   "source": [
    "import sympy as sp\n",
    "\n",
    "x, y = sp.symbols('x y')\n",
    "f = x**2 * y + y**3 * sp.sin(x)\n",
    "\n",
    "# Compute the gradient\n",
    "grad = [sp.diff(f, var) for var in (x, y)]\n",
    "print(\"Analytical Gradient:\", grad)"
   ]
  },
  {
   "cell_type": "markdown",
   "id": "8b5bd099",
   "metadata": {},
   "source": [
    "**Ans 7)**"
   ]
  },
  {
   "cell_type": "code",
   "execution_count": 73,
   "id": "b19fee09",
   "metadata": {},
   "outputs": [],
   "source": [
    "dict = {\n",
    "    2022: {\n",
    "        \"Branch 1\": {\n",
    "            1: {\"Roll Number\": 1, \"Name\": \"N\", \"Marks\": {\"Maths\": 100, \"English\": 70}}\n",
    "        },\n",
    "        \"Branch 2\":{}\n",
    "    },\n",
    "    2023: {\n",
    "        \"Branch 1\": {},\n",
    "        \"Branch 2\": {}\n",
    "    },\n",
    "    2024: {\n",
    "        \"Branch 1\": {},\n",
    "        \"Branch 2\": {}\n",
    "    },\n",
    "    2025: {\n",
    "        \"Branch 1\": {},\n",
    "        \"Branch 2\": {}\n",
    "    }\n",
    "}"
   ]
  },
  {
   "cell_type": "markdown",
   "id": "c39d9086",
   "metadata": {},
   "source": [
    "**Ans 8)**"
   ]
  },
  {
   "cell_type": "code",
   "execution_count": 76,
   "id": "07bb493c",
   "metadata": {},
   "outputs": [],
   "source": [
    "class Student:\n",
    "    def __init__(self, roll_number, name, marks):\n",
    "        self.roll_number = roll_number\n",
    "        self.name = name\n",
    "        self.marks = marks\n",
    "\n",
    "class Branch:\n",
    "    def __init__(self, name, students=None):\n",
    "        self.name = name\n",
    "        self.students = students or []\n",
    "\n",
    "    def add_student(self, student):\n",
    "        self.students.append(student)\n",
    "\n",
    "class Year:\n",
    "    def __init__(self, year, branches=None):\n",
    "        self.year = year\n",
    "        self.branches = branches or []\n",
    "\n",
    "    def add_branch(self, branch):\n",
    "        self.branches.append(branch)\n",
    "        \n",
    "student1 = Student(1, 'N', {'Maths': 100, 'English': 70})\n",
    "student2 = Student(2, 'M', {'Maths': 90, 'English': 85})\n",
    "\n",
    "branch1 = Branch('Branch 1', [student1])\n",
    "branch2 = Branch('Branch 2', [student2])\n",
    "\n",
    "year2022 = Year(2022, [branch1, branch2])\n",
    "year2023 = Year(2023, [Branch('Branch 1'), Branch('Branch 2')])\n",
    "year2024 = Year(2024, [Branch('Branch 1'), Branch('Branch 2')])\n",
    "year2025 = Year(2025, [Branch('Branch 1'), Branch('Branch 2')])\n",
    "\n",
    "database = [year2022, year2023, year2024, year2025]"
   ]
  },
  {
   "cell_type": "markdown",
   "id": "c79ff631",
   "metadata": {},
   "source": [
    "**Ans 9)**"
   ]
  },
  {
   "cell_type": "code",
   "execution_count": 77,
   "id": "6b46abe9",
   "metadata": {},
   "outputs": [
    {
     "data": {
      "image/png": "[encoded data removed]",
      "text/plain": [
       "<Figure size 864x1080 with 7 Axes>"
      ]
     },
     "metadata": {
      "needs_background": "light"
     },
     "output_type": "display_data"
    }
   ],
   "source": [
    "import matplotlib.pyplot as plt\n",
    "import numpy as np\n",
    "\n",
    "x = np.arange(0.5, 100.5, 0.5)\n",
    "\n",
    "y1 = x\n",
    "y2 = x**2\n",
    "y3 = x**3 / 100\n",
    "y4 = np.sin(x)\n",
    "y5 = np.sin(x) / x\n",
    "y6 = np.log(x_log)\n",
    "y7 = np.exp(x)\n",
    "\n",
    "plt.figure(figsize=(12, 15))\n",
    "\n",
    "# Plot for y = x\n",
    "plt.subplot(421)\n",
    "plt.plot(x, y1, label='y = x')\n",
    "plt.xlabel('x')\n",
    "plt.ylabel('y')\n",
    "plt.title('Plot of y = x')\n",
    "\n",
    "# Plot for y = x^2\n",
    "plt.subplot(422)\n",
    "plt.plot(x, y2, label='y = x^2')\n",
    "plt.xlabel('x')\n",
    "plt.ylabel('y')\n",
    "plt.title('Plot of y = x^2')\n",
    "\n",
    "# Plot for y = x^3/100\n",
    "plt.subplot(423)\n",
    "plt.plot(x, y3, label='y = x^3/100')\n",
    "plt.xlabel('x')\n",
    "plt.ylabel('y')\n",
    "plt.title('Plot of y = x^3/100')\n",
    "\n",
    "# Plot for y = sin(x)\n",
    "plt.subplot(424)\n",
    "plt.plot(x, y4, label='y = sin(x)')\n",
    "plt.xlabel('x')\n",
    "plt.ylabel('y')\n",
    "plt.title('Plot of y = sin(x)')\n",
    "\n",
    "# Plot for y = sin(x) / x\n",
    "plt.subplot(425)\n",
    "plt.plot(x, y5, label='y = sin(x) / x')\n",
    "plt.xlabel('x')\n",
    "plt.ylabel('y')\n",
    "plt.title('Plot of y = sin(x) / x')\n",
    "\n",
    "# Plot for y = log(x)\n",
    "plt.subplot(426)\n",
    "plt.plot(x_log, y6, label='y = log(x)')\n",
    "plt.xlabel('x')\n",
    "plt.ylabel('y')\n",
    "plt.title('Plot of y = log(x)')\n",
    "\n",
    "# Plot for y = e^x\n",
    "plt.subplot(427)\n",
    "plt.plot(x, y7, label='y = e^x')\n",
    "plt.xlabel('x')\n",
    "plt.ylabel('y')\n",
    "plt.title('Plot of y = e^x')\n",
    "\n",
    "# Adjust layout for better spacing\n",
    "plt.tight_layout()\n",
    "\n",
    "# Show the plots\n",
    "plt.show()"
   ]
  },
  {
   "cell_type": "markdown",
   "id": "b6235100",
   "metadata": {},
   "source": [
    "**Ans 10)**"
   ]
  },
  {
   "cell_type": "code",
   "execution_count": 78,
   "id": "b4f353f0",
   "metadata": {},
   "outputs": [
    {
     "name": "stdout",
     "output_type": "stream",
     "text": [
      "DataFrame:\n",
      "           a         b         c         d         e\n",
      "0   1.413365  1.680298  1.927958  1.138739  1.376480\n",
      "1   1.289431  1.640308  1.608928  1.860412  1.507539\n",
      "2   1.338197  1.427389  1.751124  1.425119  1.868138\n",
      "3   1.563603  1.631505  1.214802  1.587448  1.615317\n",
      "4   1.195612  1.238652  1.062856  1.404558  1.203105\n",
      "5   1.625459  1.653572  1.021767  1.645431  1.618739\n",
      "6   1.270743  1.049118  1.374772  1.007659  1.003520\n",
      "7   1.642931  1.577999  1.192414  1.268314  1.076093\n",
      "8   1.613598  1.002854  1.894223  1.818679  1.041556\n",
      "9   1.514783  1.484892  1.627157  1.460848  1.696692\n",
      "10  1.876099  1.850078  1.840260  1.364258  1.109835\n",
      "11  1.899985  1.415117  1.970113  1.856421  1.023128\n",
      "12  1.422558  1.047025  1.313425  1.266169  1.894024\n",
      "13  1.132810  1.261825  1.391397  1.667425  1.533648\n",
      "14  1.382773  1.486609  1.874528  1.896915  1.457076\n",
      "15  1.856191  1.404368  1.974346  1.930629  1.089562\n",
      "16  1.010490  1.384733  1.033504  1.341520  1.724186\n",
      "17  1.386358  1.565741  1.071383  1.841564  1.140838\n",
      "18  1.332522  1.520110  1.709525  1.714998  1.084658\n",
      "19  1.602046  1.565856  1.005843  1.096393  1.833772\n",
      "\n",
      "Column with the highest standard deviation: c\n",
      "Row with the lowest mean: 6\n"
     ]
    }
   ],
   "source": [
    "import numpy as np\n",
    "import pandas as pd\n",
    "\n",
    "matrix = np.random.uniform(1, 2, size=(20, 5))\n",
    "\n",
    "df = pd.DataFrame(matrix, columns=['a', 'b', 'c', 'd', 'e'])\n",
    "\n",
    "max_std_col = df.std().idxmax()\n",
    "\n",
    "# Find the row with the lowest mean\n",
    "min_mean_row = df.mean(axis=1).idxmin()\n",
    "\n",
    "print(\"DataFrame:\")\n",
    "print(df)\n",
    "print(\"\\nColumn with the highest standard deviation:\", max_std_col)\n",
    "print(\"Row with the lowest mean:\", min_mean_row)"
   ]
  },
  {
   "cell_type": "markdown",
   "id": "36f2a2d4",
   "metadata": {},
   "source": [
    "**Ans 11)**"
   ]
  },
  {
   "cell_type": "code",
   "execution_count": 79,
   "id": "7a8ebab0",
   "metadata": {},
   "outputs": [
    {
     "name": "stdout",
     "output_type": "stream",
     "text": [
      "DataFrame:\n",
      "           a         b         c         d         e         f    g\n",
      "0   1.413365  1.680298  1.927958  1.138739  1.376480  7.536840  LT8\n",
      "1   1.289431  1.640308  1.608928  1.860412  1.507539  7.906618  LT8\n",
      "2   1.338197  1.427389  1.751124  1.425119  1.868138  7.809968  LT8\n",
      "3   1.563603  1.631505  1.214802  1.587448  1.615317  7.612675  LT8\n",
      "4   1.195612  1.238652  1.062856  1.404558  1.203105  6.104783  LT8\n",
      "5   1.625459  1.653572  1.021767  1.645431  1.618739  7.564969  LT8\n",
      "6   1.270743  1.049118  1.374772  1.007659  1.003520  5.705812  LT8\n",
      "7   1.642931  1.577999  1.192414  1.268314  1.076093  6.757751  LT8\n",
      "8   1.613598  1.002854  1.894223  1.818679  1.041556  7.370910  LT8\n",
      "9   1.514783  1.484892  1.627157  1.460848  1.696692  7.784371  LT8\n",
      "10  1.876099  1.850078  1.840260  1.364258  1.109835  8.040530  GT8\n",
      "11  1.899985  1.415117  1.970113  1.856421  1.023128  8.164764  GT8\n",
      "12  1.422558  1.047025  1.313425  1.266169  1.894024  6.943202  LT8\n",
      "13  1.132810  1.261825  1.391397  1.667425  1.533648  6.987105  LT8\n",
      "14  1.382773  1.486609  1.874528  1.896915  1.457076  8.097900  GT8\n",
      "15  1.856191  1.404368  1.974346  1.930629  1.089562  8.255096  GT8\n",
      "16  1.010490  1.384733  1.033504  1.341520  1.724186  6.494433  LT8\n",
      "17  1.386358  1.565741  1.071383  1.841564  1.140838  7.005884  LT8\n",
      "18  1.332522  1.520110  1.709525  1.714998  1.084658  7.361813  LT8\n",
      "19  1.602046  1.565856  1.005843  1.096393  1.833772  7.103909  LT8\n",
      "\n",
      "Number of rows where the value in column 'g' is 'LT8': 16\n",
      "Standard deviation of column 'f' for 'LT8' rows: 0.6264397428065401\n",
      "Standard deviation of column 'f' for 'GT8' rows: 0.09224287523707869\n"
     ]
    }
   ],
   "source": [
    "df['f'] = df[['a', 'b', 'c', 'd', 'e']].sum(axis=1)\n",
    "\n",
    "df['g'] = np.where(df['f'] < 8, 'LT8', 'GT8')\n",
    "\n",
    "num_lt8_rows = df[df['g'] == 'LT8'].shape[0]\n",
    "\n",
    "std_lt8 = df.loc[df['g'] == 'LT8', 'f'].std()\n",
    "std_gt8 = df.loc[df['g'] == 'GT8', 'f'].std()\n",
    "\n",
    "print(\"DataFrame:\")\n",
    "print(df)\n",
    "print(\"\\nNumber of rows where the value in column 'g' is 'LT8':\", num_lt8_rows)\n",
    "print(\"Standard deviation of column 'f' for 'LT8' rows:\", std_lt8)\n",
    "print(\"Standard deviation of column 'f' for 'GT8' rows:\", std_gt8)"
   ]
  },
  {
   "cell_type": "markdown",
   "id": "fda9b09f",
   "metadata": {},
   "source": [
    "**Ans 12)**"
   ]
  },
  {
   "cell_type": "markdown",
   "id": "05a497ec",
   "metadata": {},
   "source": [
    "Broadcasting in NumPy is a powerful feature that allows operations between arrays of different shapes and sizes without the need for explicit looping."
   ]
  },
  {
   "cell_type": "code",
   "execution_count": 80,
   "id": "08be5b73",
   "metadata": {},
   "outputs": [
    {
     "name": "stdout",
     "output_type": "stream",
     "text": [
      "Array 1:\n",
      "[[1 2 3]\n",
      " [4 5 6]]\n",
      "\n",
      "Array 2:\n",
      "[10 20 30]\n",
      "\n",
      "Result after broadcasting:\n",
      "[[11 22 33]\n",
      " [14 25 36]]\n"
     ]
    }
   ],
   "source": [
    "import numpy as np\n",
    "\n",
    "arr1 = np.array([[1, 2, 3],\n",
    "                 [4, 5, 6]])\n",
    "\n",
    "arr2 = np.array([10, 20, 30])\n",
    "\n",
    "# Broadcasting: adding a 1D array to a 2D array\n",
    "result = arr1 + arr2\n",
    "\n",
    "print(\"Array 1:\")\n",
    "print(arr1)\n",
    "print(\"\\nArray 2:\")\n",
    "print(arr2)\n",
    "print(\"\\nResult after broadcasting:\")\n",
    "print(result)"
   ]
  },
  {
   "cell_type": "markdown",
   "id": "2cd6d555",
   "metadata": {},
   "source": [
    "**Ans 13)**"
   ]
  },
  {
   "cell_type": "code",
   "execution_count": 81,
   "id": "991e9b8c",
   "metadata": {},
   "outputs": [
    {
     "name": "stdout",
     "output_type": "stream",
     "text": [
      "Array: [10 10  4  2  2]\n",
      "\n",
      "Custom argmin result: 3\n",
      "np.argmin result: 3\n"
     ]
    }
   ],
   "source": [
    "import numpy as np\n",
    "\n",
    "def custom_argmin(arr):\n",
    "    min_value = arr[0]\n",
    "    min_index = 0\n",
    "\n",
    "    for i in range(1, len(arr)):\n",
    "        if arr[i] < min_value:\n",
    "            min_value = arr[i]\n",
    "            min_index = i\n",
    "\n",
    "    return min_index\n",
    "\n",
    "my_array = np.random.randint(1, 11, size=5)\n",
    "print(\"Array:\", my_array)\n",
    "\n",
    "result = custom_argmin(my_array)\n",
    "print(\"\\nCustom argmin result:\", result)\n",
    "\n",
    "np_argmin_result = np.argmin(my_array)\n",
    "print(\"np.argmin result:\", np_argmin_result)"
   ]
  },
  {
   "cell_type": "code",
   "execution_count": null,
   "id": "41e704f8",
   "metadata": {},
   "outputs": [],
   "source": []
  }
 ],
 "metadata": {
  "kernelspec": {
   "display_name": "Python 3",
   "language": "python",
   "name": "python3"
  },
  "language_info": {
   "codemirror_mode": {
    "name": "ipython",
    "version": 3
   },
   "file_extension": ".py",
   "mimetype": "text/x-python",
   "name": "python",
   "nbconvert_exporter": "python",
   "pygments_lexer": "ipython3",
   "version": "3.8.8"
  }
 },
 "nbformat": 4,
 "nbformat_minor": 5
}
